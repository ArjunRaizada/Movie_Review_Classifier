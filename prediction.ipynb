{
 "cells": [
  {
   "cell_type": "code",
   "execution_count": 1,
   "metadata": {},
   "outputs": [],
   "source": [
    "# Step 1: Import Libraries and Load the Model\n",
    "import numpy as np\n",
    "import tensorflow as tf\n",
    "from tensorflow.keras.datasets import imdb\n",
    "from tensorflow.keras.preprocessing import sequence\n",
    "from tensorflow.keras.models import load_model"
   ]
  },
  {
   "cell_type": "code",
   "execution_count": 2,
   "metadata": {},
   "outputs": [],
   "source": [
    "# Load the IMDB dataset word index\n",
    "word_index = imdb.get_word_index()\n",
    "reverse_word_index = {value: key for key, value in word_index.items()}"
   ]
  },
  {
   "cell_type": "code",
   "execution_count": 3,
   "metadata": {},
   "outputs": [
    {
     "name": "stderr",
     "output_type": "stream",
     "text": [
      "WARNING:absl:Compiled the loaded model, but the compiled metrics have yet to be built. `model.compile_metrics` will be empty until you train or evaluate the model.\n"
     ]
    },
    {
     "data": {
      "text/html": [
       "<pre style=\"white-space:pre;overflow-x:auto;line-height:normal;font-family:Menlo,'DejaVu Sans Mono',consolas,'Courier New',monospace\"><span style=\"font-weight: bold\">Model: \"sequential\"</span>\n",
       "</pre>\n"
      ],
      "text/plain": [
       "\u001b[1mModel: \"sequential\"\u001b[0m\n"
      ]
     },
     "metadata": {},
     "output_type": "display_data"
    },
    {
     "data": {
      "text/html": [
       "<pre style=\"white-space:pre;overflow-x:auto;line-height:normal;font-family:Menlo,'DejaVu Sans Mono',consolas,'Courier New',monospace\">┏━━━━━━━━━━━━━━━━━━━━━━━━━━━━━━━━━┳━━━━━━━━━━━━━━━━━━━━━━━━┳━━━━━━━━━━━━━━━┓\n",
       "┃<span style=\"font-weight: bold\"> Layer (type)                    </span>┃<span style=\"font-weight: bold\"> Output Shape           </span>┃<span style=\"font-weight: bold\">       Param # </span>┃\n",
       "┡━━━━━━━━━━━━━━━━━━━━━━━━━━━━━━━━━╇━━━━━━━━━━━━━━━━━━━━━━━━╇━━━━━━━━━━━━━━━┩\n",
       "│ embedding (<span style=\"color: #0087ff; text-decoration-color: #0087ff\">Embedding</span>)           │ (<span style=\"color: #00d7ff; text-decoration-color: #00d7ff\">None</span>, <span style=\"color: #00af00; text-decoration-color: #00af00\">500</span>, <span style=\"color: #00af00; text-decoration-color: #00af00\">128</span>)       │     <span style=\"color: #00af00; text-decoration-color: #00af00\">1,280,000</span> │\n",
       "├─────────────────────────────────┼────────────────────────┼───────────────┤\n",
       "│ simple_rnn (<span style=\"color: #0087ff; text-decoration-color: #0087ff\">SimpleRNN</span>)          │ (<span style=\"color: #00d7ff; text-decoration-color: #00d7ff\">None</span>, <span style=\"color: #00af00; text-decoration-color: #00af00\">128</span>)            │        <span style=\"color: #00af00; text-decoration-color: #00af00\">32,896</span> │\n",
       "├─────────────────────────────────┼────────────────────────┼───────────────┤\n",
       "│ dense (<span style=\"color: #0087ff; text-decoration-color: #0087ff\">Dense</span>)                   │ (<span style=\"color: #00d7ff; text-decoration-color: #00d7ff\">None</span>, <span style=\"color: #00af00; text-decoration-color: #00af00\">1</span>)              │           <span style=\"color: #00af00; text-decoration-color: #00af00\">129</span> │\n",
       "└─────────────────────────────────┴────────────────────────┴───────────────┘\n",
       "</pre>\n"
      ],
      "text/plain": [
       "┏━━━━━━━━━━━━━━━━━━━━━━━━━━━━━━━━━┳━━━━━━━━━━━━━━━━━━━━━━━━┳━━━━━━━━━━━━━━━┓\n",
       "┃\u001b[1m \u001b[0m\u001b[1mLayer (type)                   \u001b[0m\u001b[1m \u001b[0m┃\u001b[1m \u001b[0m\u001b[1mOutput Shape          \u001b[0m\u001b[1m \u001b[0m┃\u001b[1m \u001b[0m\u001b[1m      Param #\u001b[0m\u001b[1m \u001b[0m┃\n",
       "┡━━━━━━━━━━━━━━━━━━━━━━━━━━━━━━━━━╇━━━━━━━━━━━━━━━━━━━━━━━━╇━━━━━━━━━━━━━━━┩\n",
       "│ embedding (\u001b[38;5;33mEmbedding\u001b[0m)           │ (\u001b[38;5;45mNone\u001b[0m, \u001b[38;5;34m500\u001b[0m, \u001b[38;5;34m128\u001b[0m)       │     \u001b[38;5;34m1,280,000\u001b[0m │\n",
       "├─────────────────────────────────┼────────────────────────┼───────────────┤\n",
       "│ simple_rnn (\u001b[38;5;33mSimpleRNN\u001b[0m)          │ (\u001b[38;5;45mNone\u001b[0m, \u001b[38;5;34m128\u001b[0m)            │        \u001b[38;5;34m32,896\u001b[0m │\n",
       "├─────────────────────────────────┼────────────────────────┼───────────────┤\n",
       "│ dense (\u001b[38;5;33mDense\u001b[0m)                   │ (\u001b[38;5;45mNone\u001b[0m, \u001b[38;5;34m1\u001b[0m)              │           \u001b[38;5;34m129\u001b[0m │\n",
       "└─────────────────────────────────┴────────────────────────┴───────────────┘\n"
      ]
     },
     "metadata": {},
     "output_type": "display_data"
    },
    {
     "data": {
      "text/html": [
       "<pre style=\"white-space:pre;overflow-x:auto;line-height:normal;font-family:Menlo,'DejaVu Sans Mono',consolas,'Courier New',monospace\"><span style=\"font-weight: bold\"> Total params: </span><span style=\"color: #00af00; text-decoration-color: #00af00\">1,313,027</span> (5.01 MB)\n",
       "</pre>\n"
      ],
      "text/plain": [
       "\u001b[1m Total params: \u001b[0m\u001b[38;5;34m1,313,027\u001b[0m (5.01 MB)\n"
      ]
     },
     "metadata": {},
     "output_type": "display_data"
    },
    {
     "data": {
      "text/html": [
       "<pre style=\"white-space:pre;overflow-x:auto;line-height:normal;font-family:Menlo,'DejaVu Sans Mono',consolas,'Courier New',monospace\"><span style=\"font-weight: bold\"> Trainable params: </span><span style=\"color: #00af00; text-decoration-color: #00af00\">1,313,025</span> (5.01 MB)\n",
       "</pre>\n"
      ],
      "text/plain": [
       "\u001b[1m Trainable params: \u001b[0m\u001b[38;5;34m1,313,025\u001b[0m (5.01 MB)\n"
      ]
     },
     "metadata": {},
     "output_type": "display_data"
    },
    {
     "data": {
      "text/html": [
       "<pre style=\"white-space:pre;overflow-x:auto;line-height:normal;font-family:Menlo,'DejaVu Sans Mono',consolas,'Courier New',monospace\"><span style=\"font-weight: bold\"> Non-trainable params: </span><span style=\"color: #00af00; text-decoration-color: #00af00\">0</span> (0.00 B)\n",
       "</pre>\n"
      ],
      "text/plain": [
       "\u001b[1m Non-trainable params: \u001b[0m\u001b[38;5;34m0\u001b[0m (0.00 B)\n"
      ]
     },
     "metadata": {},
     "output_type": "display_data"
    },
    {
     "data": {
      "text/html": [
       "<pre style=\"white-space:pre;overflow-x:auto;line-height:normal;font-family:Menlo,'DejaVu Sans Mono',consolas,'Courier New',monospace\"><span style=\"font-weight: bold\"> Optimizer params: </span><span style=\"color: #00af00; text-decoration-color: #00af00\">2</span> (12.00 B)\n",
       "</pre>\n"
      ],
      "text/plain": [
       "\u001b[1m Optimizer params: \u001b[0m\u001b[38;5;34m2\u001b[0m (12.00 B)\n"
      ]
     },
     "metadata": {},
     "output_type": "display_data"
    }
   ],
   "source": [
    "# Load the pre-trained model with ReLU activation\n",
    "model = load_model('simple_rnn_imdb.h5')\n",
    "model.summary()"
   ]
  },
  {
   "cell_type": "code",
   "execution_count": 4,
   "metadata": {},
   "outputs": [
    {
     "data": {
      "text/plain": [
       "[array([[-0.04351277,  0.09131225,  0.1152138 , ...,  0.09961382,\n",
       "          0.01747077, -0.05438497],\n",
       "        [ 0.02658155, -0.02538218,  0.0516704 , ..., -0.00426466,\n",
       "         -0.06483845, -0.00617821],\n",
       "        [-0.05414072, -0.04026032,  0.02656511, ..., -0.01050089,\n",
       "          0.02489396, -0.00328179],\n",
       "        ...,\n",
       "        [ 0.09782659, -0.0375167 ,  0.05205624, ...,  0.11258015,\n",
       "          0.11144682, -0.03136888],\n",
       "        [-0.010132  ,  0.0714925 , -0.10440867, ..., -0.02333666,\n",
       "         -0.02588255,  0.00559546],\n",
       "        [ 0.0006213 , -0.09204315,  0.01638029, ...,  0.02656934,\n",
       "          0.03670881, -0.07283378]], dtype=float32),\n",
       " array([[ 0.10901588,  0.01708283,  0.00809171, ...,  0.09043752,\n",
       "          0.04487565, -0.00992778],\n",
       "        [ 0.01059398,  0.03437495, -0.00076253, ..., -0.0422807 ,\n",
       "         -0.09492573,  0.13656662],\n",
       "        [ 0.0689438 , -0.10217457, -0.00853403, ..., -0.03308404,\n",
       "         -0.10653935, -0.16786908],\n",
       "        ...,\n",
       "        [-0.03149423, -0.0245521 , -0.0873742 , ...,  0.03310911,\n",
       "         -0.13831611,  0.12958245],\n",
       "        [ 0.14780234,  0.09497105, -0.15067898, ...,  0.07332761,\n",
       "          0.10875765, -0.12581965],\n",
       "        [ 0.04030672,  0.0299115 ,  0.10228116, ...,  0.09801056,\n",
       "          0.10297335,  0.04593869]], dtype=float32),\n",
       " array([[-0.14246705,  0.02896208, -0.10178401, ..., -0.08303113,\n",
       "          0.01640555,  0.08849428],\n",
       "        [-0.14487842,  0.05952539,  0.06774504, ...,  0.06923135,\n",
       "         -0.03719014,  0.04034378],\n",
       "        [ 0.06394546, -0.12981589,  0.11603488, ..., -0.04967175,\n",
       "          0.01430313, -0.05265452],\n",
       "        ...,\n",
       "        [ 0.06759779,  0.05707211,  0.07887828, ...,  0.02028834,\n",
       "          0.02166669,  0.16118047],\n",
       "        [-0.03659299, -0.03448535, -0.0854352 , ..., -0.13920861,\n",
       "         -0.0520172 , -0.09960833],\n",
       "        [ 0.04162247,  0.08499803,  0.02243781, ...,  0.00536476,\n",
       "          0.02994822, -0.03149023]], dtype=float32),\n",
       " array([-0.01661148,  0.01136313, -0.01215204, -0.00095734,  0.02114411,\n",
       "         0.01169344, -0.02888429, -0.0102459 ,  0.01809724, -0.01320921,\n",
       "        -0.01767335, -0.01005966, -0.00847767,  0.0171197 , -0.02040168,\n",
       "         0.01085081, -0.00699566,  0.00969032,  0.01416826,  0.01008293,\n",
       "        -0.00484493, -0.00837365, -0.01397311, -0.0161885 , -0.00947834,\n",
       "        -0.00543523, -0.0023658 , -0.01275198, -0.00284627,  0.017652  ,\n",
       "        -0.02108365,  0.01372143, -0.01644949, -0.01834481, -0.00300429,\n",
       "        -0.02180726,  0.00383008, -0.01288218,  0.01657823, -0.00422538,\n",
       "        -0.00899735, -0.02010176, -0.00470644,  0.01913477, -0.00409283,\n",
       "         0.00597876,  0.01327891,  0.00574086, -0.01258506,  0.01128955,\n",
       "        -0.01330837, -0.01077328,  0.00134268, -0.03434184, -0.00656918,\n",
       "         0.02150496,  0.00634518,  0.01507277, -0.00039283,  0.02149283,\n",
       "         0.01625844,  0.00316772, -0.00829444, -0.00250792,  0.01291069,\n",
       "        -0.00844238,  0.02502173,  0.00635714, -0.01011341,  0.00792183,\n",
       "         0.01830725, -0.00284804, -0.00051359,  0.02862945,  0.01409776,\n",
       "         0.00191881, -0.00020338, -0.0064692 ,  0.00194956, -0.01513142,\n",
       "         0.00030452, -0.01502473,  0.01556823, -0.00642103,  0.02356834,\n",
       "        -0.01844939,  0.01084738,  0.01585263, -0.00290739,  0.00382517,\n",
       "        -0.01284508,  0.00090809, -0.00498406, -0.00692445,  0.01066784,\n",
       "        -0.01082288,  0.00944057, -0.06409664, -0.00747047,  0.001733  ,\n",
       "        -0.0036742 , -0.00869535,  0.01967631,  0.00869697,  0.01641408,\n",
       "        -0.01347436, -0.0655169 , -0.00396853,  0.02079794, -0.0039397 ,\n",
       "         0.00495966, -0.00901678, -0.02076869, -0.00819186, -0.00692345,\n",
       "         0.01335689, -0.00122235,  0.00873145, -0.00929691, -0.00318638,\n",
       "        -0.00215741, -0.01127421, -0.01581001, -0.00742191, -0.01050961,\n",
       "        -0.01620171,  0.00319122, -0.0049563 ], dtype=float32),\n",
       " array([[ 0.0764961 ],\n",
       "        [ 0.1277262 ],\n",
       "        [-0.1303306 ],\n",
       "        [ 0.1996122 ],\n",
       "        [ 0.60595405],\n",
       "        [ 0.00656368],\n",
       "        [ 0.12361924],\n",
       "        [-0.12708835],\n",
       "        [-0.1460709 ],\n",
       "        [ 0.07885332],\n",
       "        [ 0.11190422],\n",
       "        [ 0.1250366 ],\n",
       "        [ 0.0455782 ],\n",
       "        [ 0.23730342],\n",
       "        [-0.04657269],\n",
       "        [ 0.07215998],\n",
       "        [ 0.08954671],\n",
       "        [ 0.08223021],\n",
       "        [ 0.32149678],\n",
       "        [ 0.07459272],\n",
       "        [ 0.11730523],\n",
       "        [ 0.6750955 ],\n",
       "        [-0.23051044],\n",
       "        [-0.06807362],\n",
       "        [-0.06149169],\n",
       "        [ 0.09156187],\n",
       "        [ 0.09750099],\n",
       "        [ 0.19552858],\n",
       "        [-0.13803099],\n",
       "        [ 0.18222348],\n",
       "        [ 0.24665314],\n",
       "        [-0.10595445],\n",
       "        [-0.14447659],\n",
       "        [ 0.14459103],\n",
       "        [ 0.09937068],\n",
       "        [ 0.39305332],\n",
       "        [-0.0060414 ],\n",
       "        [-0.15418848],\n",
       "        [-0.18034373],\n",
       "        [ 0.15438478],\n",
       "        [ 0.07065096],\n",
       "        [-0.00244549],\n",
       "        [-0.21068338],\n",
       "        [-0.01432327],\n",
       "        [ 0.20679934],\n",
       "        [ 0.36640152],\n",
       "        [-0.11317091],\n",
       "        [ 0.28040734],\n",
       "        [ 0.02113087],\n",
       "        [-0.0132531 ],\n",
       "        [ 0.16887218],\n",
       "        [-0.09053306],\n",
       "        [ 0.06034277],\n",
       "        [-0.06801741],\n",
       "        [-0.03261506],\n",
       "        [ 0.36999735],\n",
       "        [-0.18577322],\n",
       "        [ 0.13460514],\n",
       "        [-0.04437047],\n",
       "        [-0.17334206],\n",
       "        [-0.17675875],\n",
       "        [-0.02421801],\n",
       "        [ 0.17798294],\n",
       "        [-0.19311187],\n",
       "        [ 0.30034053],\n",
       "        [ 0.00936434],\n",
       "        [ 0.09642679],\n",
       "        [ 0.32516095],\n",
       "        [ 0.13902363],\n",
       "        [ 0.1083444 ],\n",
       "        [ 0.6695542 ],\n",
       "        [ 0.09816726],\n",
       "        [-0.02906265],\n",
       "        [-0.05744474],\n",
       "        [-0.20202394],\n",
       "        [-0.11228708],\n",
       "        [ 0.30114618],\n",
       "        [ 0.05105747],\n",
       "        [-0.12122946],\n",
       "        [ 0.11972329],\n",
       "        [-0.07757839],\n",
       "        [-0.20693803],\n",
       "        [-0.1494164 ],\n",
       "        [ 0.1629446 ],\n",
       "        [ 0.01268999],\n",
       "        [ 0.20100933],\n",
       "        [ 0.06580721],\n",
       "        [-0.08576078],\n",
       "        [ 0.11824138],\n",
       "        [-0.1386525 ],\n",
       "        [-0.02779432],\n",
       "        [ 0.21507387],\n",
       "        [ 0.23287052],\n",
       "        [ 0.03746424],\n",
       "        [-0.24976619],\n",
       "        [-0.04093817],\n",
       "        [-0.0201619 ],\n",
       "        [ 0.18970029],\n",
       "        [ 0.01632855],\n",
       "        [ 0.17341006],\n",
       "        [-0.81168747],\n",
       "        [-0.175258  ],\n",
       "        [-0.11332539],\n",
       "        [-0.22431564],\n",
       "        [-0.00528253],\n",
       "        [-0.08103953],\n",
       "        [-0.31292436],\n",
       "        [-0.03357817],\n",
       "        [-0.11211576],\n",
       "        [-0.0906757 ],\n",
       "        [ 0.1150237 ],\n",
       "        [-0.0085494 ],\n",
       "        [ 0.01276496],\n",
       "        [ 0.11294175],\n",
       "        [ 0.12516385],\n",
       "        [-0.0922101 ],\n",
       "        [-0.03124531],\n",
       "        [-0.09750656],\n",
       "        [ 0.24144651],\n",
       "        [ 0.21783195],\n",
       "        [ 0.06105722],\n",
       "        [ 0.01800823],\n",
       "        [ 0.08171759],\n",
       "        [ 0.18538323],\n",
       "        [ 0.02602914],\n",
       "        [ 0.00279454],\n",
       "        [ 0.10026128],\n",
       "        [ 0.15180436]], dtype=float32),\n",
       " array([0.7539818], dtype=float32)]"
      ]
     },
     "execution_count": 4,
     "metadata": {},
     "output_type": "execute_result"
    }
   ],
   "source": [
    "model.get_weights()"
   ]
  },
  {
   "cell_type": "code",
   "execution_count": 5,
   "metadata": {},
   "outputs": [],
   "source": [
    "# Step 2: Helper Functions\n",
    "# Function to decode reviews\n",
    "def decode_review(encoded_review):\n",
    "    return ' '.join([reverse_word_index.get(i - 3, '?') for i in encoded_review])\n",
    "\n",
    "# Function to preprocess user input\n",
    "def preprocess_text(text):\n",
    "    words = text.lower().split()\n",
    "    encoded_review = [word_index.get(word, 2) + 3 for word in words]\n",
    "    padded_review = sequence.pad_sequences([encoded_review], maxlen=500)\n",
    "    return padded_review"
   ]
  },
  {
   "cell_type": "code",
   "execution_count": 6,
   "metadata": {},
   "outputs": [],
   "source": [
    "### Prediction  function\n",
    "\n",
    "def predict_sentiment(review):\n",
    "    preprocessed_input=preprocess_text(review)\n",
    "\n",
    "    prediction=model.predict(preprocessed_input)\n",
    "\n",
    "    sentiment = 'Positive' if prediction[0][0] > 0.5 else 'Negative'\n",
    "    \n",
    "    return sentiment, prediction[0][0]"
   ]
  },
  {
   "cell_type": "code",
   "execution_count": 7,
   "metadata": {},
   "outputs": [
    {
     "name": "stdout",
     "output_type": "stream",
     "text": [
      "\u001b[1m1/1\u001b[0m \u001b[32m━━━━━━━━━━━━━━━━━━━━\u001b[0m\u001b[37m\u001b[0m \u001b[1m0s\u001b[0m 141ms/step\n",
      "Review: This movie was fantastic! The acting was great and the plot was thrilling.\n",
      "Sentiment: Positive\n",
      "Prediction Score: 0.5597849488258362\n"
     ]
    }
   ],
   "source": [
    "# Step 4: User Input and Prediction\n",
    "# Example review for prediction\n",
    "example_review = \"This movie was fantastic! The acting was great and the plot was thrilling.\"\n",
    "\n",
    "sentiment,score=predict_sentiment(example_review)\n",
    "\n",
    "print(f'Review: {example_review}')\n",
    "print(f'Sentiment: {sentiment}')\n",
    "print(f'Prediction Score: {score}')"
   ]
  },
  {
   "cell_type": "code",
   "execution_count": 8,
   "metadata": {},
   "outputs": [
    {
     "name": "stdout",
     "output_type": "stream",
     "text": [
      "\u001b[1m1/1\u001b[0m \u001b[32m━━━━━━━━━━━━━━━━━━━━\u001b[0m\u001b[37m\u001b[0m \u001b[1m0s\u001b[0m 15ms/step\n"
     ]
    },
    {
     "data": {
      "text/plain": [
       "array([[0.55978495]], dtype=float32)"
      ]
     },
     "execution_count": 8,
     "metadata": {},
     "output_type": "execute_result"
    }
   ],
   "source": [
    "preprocessed_input=preprocess_text(\"This movie was fantastic! The acting was great and the plot was thrilling.\")\n",
    "prediction=model.predict(preprocessed_input)\n",
    "prediction"
   ]
  },
  {
   "cell_type": "code",
   "execution_count": 9,
   "metadata": {},
   "outputs": [
    {
     "data": {
      "text/plain": [
       "array([0.55978495], dtype=float32)"
      ]
     },
     "execution_count": 9,
     "metadata": {},
     "output_type": "execute_result"
    }
   ],
   "source": [
    "prediction[0]"
   ]
  },
  {
   "cell_type": "code",
   "execution_count": 10,
   "metadata": {},
   "outputs": [
    {
     "data": {
      "text/plain": [
       "1"
      ]
     },
     "execution_count": 10,
     "metadata": {},
     "output_type": "execute_result"
    }
   ],
   "source": [
    "len(prediction[0])"
   ]
  },
  {
   "cell_type": "code",
   "execution_count": 11,
   "metadata": {},
   "outputs": [
    {
     "data": {
      "text/plain": [
       "0.55978495"
      ]
     },
     "execution_count": 11,
     "metadata": {},
     "output_type": "execute_result"
    }
   ],
   "source": [
    "prediction[0][0]"
   ]
  },
  {
   "cell_type": "code",
   "execution_count": null,
   "metadata": {},
   "outputs": [],
   "source": []
  }
 ],
 "metadata": {
  "kernelspec": {
   "display_name": "base",
   "language": "python",
   "name": "python3"
  },
  "language_info": {
   "codemirror_mode": {
    "name": "ipython",
    "version": 3
   },
   "file_extension": ".py",
   "mimetype": "text/x-python",
   "name": "python",
   "nbconvert_exporter": "python",
   "pygments_lexer": "ipython3",
   "version": "3.12.4"
  }
 },
 "nbformat": 4,
 "nbformat_minor": 2
}
